{
 "cells": [
  {
   "cell_type": "markdown",
   "source": [
    "# Punto 10"
   ],
   "metadata": {}
  },
  {
   "cell_type": "code",
   "execution_count": 7,
   "source": [
    "import numpy as np\r\n",
    "import sympy as sp\r\n",
    "\r\n",
    "def newton(F, V, U):\r\n",
    "    n=len(F)\r\n",
    "    J=np.zeros([n,n],dtype=sp.Symbol)\r\n",
    "    T=list(np.copy(F))\r\n",
    "\r\n",
    "    for i in range(n):\r\n",
    "        for j in range(n):\r\n",
    "            J[i][j]=sp.diff(F[i],V[j])\r\n",
    "    for i in range(n):\r\n",
    "        for j in range(n):\r\n",
    "            for k in range(n):\r\n",
    "                J[i][j]=J[i][j].subs(V[k],float(U[k]))\r\n",
    "    for i in range(n):\r\n",
    "        for j in range(n):\r\n",
    "            T[i]=T[i].subs(V[j],float(U[j]))\r\n",
    "    J=np.array(J,float)\r\n",
    "    T=np.array(T,float)\r\n",
    "    U=U-np.dot(np.linalg.inv(J),T)\r\n",
    "    return U\r\n"
   ],
   "outputs": [],
   "metadata": {}
  },
  {
   "cell_type": "code",
   "execution_count": 11,
   "source": [
    "[x,y]=sp.symbols('x,y')\r\n",
    "f=x**2+y**2-1\r\n",
    "g=y-x\r\n",
    "F=[f,g]\r\n",
    "V=[x,y]\r\n",
    "U=[1,1]\r\n",
    "\r\n",
    "\r\n",
    "U=newton(F,V,U);print(\"Iteración 1: \");print(U)\r\n",
    "U=newton(F,V,U);print(\"Iteración 2: \");print(U)\r\n",
    "U=newton(F,V,U);print(\"Iteración 3: \");print(U)\r\n",
    "U=newton(F,V,U);print(\"Iteración 4: \");print(U)"
   ],
   "outputs": [
    {
     "output_type": "stream",
     "name": "stdout",
     "text": [
      "Iteración 1: \n",
      "[0.75 0.75]\n",
      "Iteración 2: \n",
      "[0.70833333 0.70833333]\n",
      "Iteración 3: \n",
      "[0.70710784 0.70710784]\n",
      "Iteración 4: \n",
      "[0.70710678 0.70710678]\n"
     ]
    }
   ],
   "metadata": {}
  }
 ],
 "metadata": {
  "orig_nbformat": 4,
  "language_info": {
   "name": "python",
   "version": "3.8.8",
   "mimetype": "text/x-python",
   "codemirror_mode": {
    "name": "ipython",
    "version": 3
   },
   "pygments_lexer": "ipython3",
   "nbconvert_exporter": "python",
   "file_extension": ".py"
  },
  "kernelspec": {
   "name": "python3",
   "display_name": "Python 3.8.8 64-bit ('base': conda)"
  },
  "interpreter": {
   "hash": "2b98e5309e6e3b0bade2ed4a1aa225e8ff7275f11bed2b4c0572310c8cf94ab4"
  }
 },
 "nbformat": 4,
 "nbformat_minor": 2
}