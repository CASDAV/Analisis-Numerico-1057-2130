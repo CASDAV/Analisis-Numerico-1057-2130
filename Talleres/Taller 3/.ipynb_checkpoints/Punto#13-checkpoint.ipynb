{
 "cells": [
  {
   "cell_type": "markdown",
   "metadata": {},
   "source": [
    "# Imports necesarios"
   ]
  },
  {
   "cell_type": "code",
   "execution_count": 1,
   "metadata": {},
   "outputs": [],
   "source": [
    "import numpy as np\n",
    "import matplotlib.pyplot as plt\n",
    "from scipy.interpolate import CubicSpline, interp1d"
   ]
  },
  {
   "cell_type": "markdown",
   "metadata": {},
   "source": [
    "# Datos dados en el ejercicio"
   ]
  },
  {
   "cell_type": "code",
   "execution_count": 2,
   "metadata": {},
   "outputs": [],
   "source": [
    "baseImponible = 5000000"
   ]
  },
  {
   "cell_type": "code",
   "execution_count": 3,
   "metadata": {},
   "outputs": [],
   "source": [
    "basesImponibles = np.array([\n",
    "                            4410000, \n",
    "                            4830000, \n",
    "                            5250000, \n",
    "                            5670000\n",
    "                        ])\n",
    "\n",
    "cuotasIntegra = np.array([\n",
    "                            1165978, \n",
    "                            1329190, \n",
    "                            1501474, \n",
    "                            1682830\n",
    "                        ])\n",
    "\n",
    "tipos = np.array([\n",
    "                    0.3886, \n",
    "                    0.4102, \n",
    "                    0.4318, \n",
    "                    0.4534\n",
    "                ])"
   ]
  },
  {
   "cell_type": "markdown",
   "metadata": {},
   "source": [
    "# Cálculos para el Tipo"
   ]
  },
  {
   "cell_type": "code",
   "execution_count": 4,
   "metadata": {},
   "outputs": [],
   "source": [
    "# Interpolación Lineal\n",
    "marg1 = interp1d(basesImponibles, tipos, kind='linear', fill_value='extrapolate')\n",
    "\n",
    "#Interpolación Cuadrática\n",
    "marg2 = interp1d(basesImponibles, tipos, kind='quadratic', fill_value='extrapolate')\n",
    "\n",
    "# Interpolación Cúbica\n",
    "marg3 = CubicSpline(basesImponibles, tipos)\n"
   ]
  },
  {
   "cell_type": "markdown",
   "metadata": {},
   "source": [
    "# Cálculos para la Cuota Integra"
   ]
  },
  {
   "cell_type": "code",
   "execution_count": 5,
   "metadata": {},
   "outputs": [],
   "source": [
    "# Interpolación Lineal\n",
    "cuotaIntegraInterLineal = interp1d(basesImponibles, cuotasIntegra, kind='linear')\n",
    "lineales = np.array(list(map(lambda x: cuotaIntegraInterLineal(x), basesImponibles)))\n",
    "\n",
    "#Interpolación Cuadrática\n",
    "cuotaIntegraInterCuadra = interp1d(basesImponibles, cuotasIntegra, kind='quadratic')\n",
    "cuadraticos = np.array(list(map(lambda x: cuotaIntegraInterCuadra(x), basesImponibles)))\n",
    "\n",
    "# Interpolación Cúbica\n",
    "cuotaIntegraInterCubica = CubicSpline(basesImponibles, cuotasIntegra)\n",
    "cubicos = np.array(list(map(lambda x: cuotaIntegraInterCubica(x), basesImponibles)))"
   ]
  },
  {
   "cell_type": "markdown",
   "metadata": {},
   "source": [
    "# Impresiónes"
   ]
  },
  {
   "cell_type": "code",
   "execution_count": 6,
   "metadata": {},
   "outputs": [
    {
     "name": "stdout",
     "output_type": "stream",
     "text": [
      "Tipo obtenido con interpolación Lineal: 41.894285714286 %\n",
      "Tipo obtenido con interpolación Cuadrática: 41.894285714286 %\n",
      "Tipo obtenido con interpolación Cúbica: 41.894285714286 %\n",
      "\n",
      "Cuota obtenida con interpolación Lineal: 1398924.00000\n",
      "Cuota obtenida con interpolación Cuadrática: 1397831.14286\n",
      "Cuota obtenida con interpolación Cúbica: 1397831.14286\n"
     ]
    }
   ],
   "source": [
    "# Impresión de resultados (tipo marginal calculado y costo final de la cuota)\n",
    "print(\"Tipo obtenido con interpolación Lineal: {:.12f}\".format(marg1(baseImponible)*100), '%')\n",
    "print(\"Tipo obtenido con interpolación Cuadrática: {:.12f}\".format(marg2(baseImponible)*100), '%')\n",
    "print(\"Tipo obtenido con interpolación Cúbica: {:.12f}\".format(marg3(baseImponible)*100), '%')\n",
    "print(\"\")\n",
    "print(\"Cuota obtenida con interpolación Lineal: {:.5f}\".format(cuotaIntegraInterLineal(baseImponible)))\n",
    "print(\"Cuota obtenida con interpolación Cuadrática: {:.5f}\".format(cuotaIntegraInterCuadra(baseImponible)))\n",
    "print(\"Cuota obtenida con interpolación Cúbica: {:.5f}\".format(cuotaIntegraInterCubica(baseImponible)))\n"
   ]
  },
  {
   "cell_type": "code",
   "execution_count": 7,
   "metadata": {},
   "outputs": [
    {
     "data": {
      "image/png": "[encoded data removed]",
      "text/plain": [
       "<Figure size 432x288 with 1 Axes>"
      ]
     },
     "metadata": {
      "needs_background": "light"
     },
     "output_type": "display_data"
    }
   ],
   "source": [
    "# Labels\n",
    "plt.xlabel(\"Base Imponible\") # Independiente\n",
    "plt.ylabel(\"Cuota\") # Dependiente\n",
    "\n",
    "# Plot de interpolación lineal\n",
    "plt.plot(basesImponibles, lineales, 'o', color='red', linestyle='--')\n",
    "\n",
    "# Plot de interpolación cuadrática\n",
    "plt.plot(basesImponibles, cuadraticos, color='orange', linestyle='--')\n",
    "\n",
    "# Plot de interpolación cúbica\n",
    "plt.plot(basesImponibles, cubicos, color='blue', linestyle='--')\n",
    "\n",
    "# Mostrar gráfico\n",
    "plt.show()"
   ]
  }
 ],
 "metadata": {
  "interpreter": {
   "hash": "2b98e5309e6e3b0bade2ed4a1aa225e8ff7275f11bed2b4c0572310c8cf94ab4"
  },
  "kernelspec": {
   "display_name": "Python 3",
   "language": "python",
   "name": "python3"
  },
  "language_info": {
   "codemirror_mode": {
    "name": "ipython",
    "version": 3
   },
   "file_extension": ".py",
   "mimetype": "text/x-python",
   "name": "python",
   "nbconvert_exporter": "python",
   "pygments_lexer": "ipython3",
   "version": "3.8.8"
  }
 },
 "nbformat": 4,
 "nbformat_minor": 4
}
