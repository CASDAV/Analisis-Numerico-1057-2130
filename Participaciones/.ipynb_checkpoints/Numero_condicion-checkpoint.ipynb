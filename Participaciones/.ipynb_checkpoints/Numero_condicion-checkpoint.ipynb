{
 "cells": [
  {
   "cell_type": "markdown",
   "id": "82c22f04-0ad7-4f41-a16a-3e69c37e7d01",
   "metadata": {},
   "source": [
    "# Numero de condición"
   ]
  },
  {
   "cell_type": "code",
   "execution_count": 2,
   "id": "8d0d5f27-07a1-48d9-800a-14d45ba4b1d0",
   "metadata": {},
   "outputs": [
    {
     "name": "stdout",
     "output_type": "stream",
     "text": [
      "9.1\n"
     ]
    }
   ],
   "source": [
    "from numpy import *\n",
    "a = array([[4,5],[4.1,5]], float)\n",
    "n = linalg.norm(a, inf)\n",
    "print(n)"
   ]
  },
  {
   "cell_type": "code",
   "execution_count": 3,
   "id": "7886298e-d95e-4422-a33c-d82df6e47021",
   "metadata": {},
   "outputs": [
    {
     "name": "stdout",
     "output_type": "stream",
     "text": [
      "[[-10.   10. ]\n",
      " [  8.2  -8. ]]\n"
     ]
    }
   ],
   "source": [
    "d = np.linalg.inv(a)\n",
    "print(d)"
   ]
  },
  {
   "cell_type": "code",
   "execution_count": 4,
   "id": "b8a45c6d-7a95-4b2c-9696-3a0f337e6004",
   "metadata": {},
   "outputs": [
    {
     "name": "stdout",
     "output_type": "stream",
     "text": [
      "182.00000000000068\n"
     ]
    }
   ],
   "source": [
    "c = np.linalg.cond(a, inf)\n",
    "print(c)"
   ]
  },
  {
   "cell_type": "code",
   "execution_count": 5,
   "id": "ca59d0bd-f563-4310-9565-d1b61a193acb",
   "metadata": {},
   "outputs": [
    {
     "data": {
      "text/plain": [
       "182.00000000000068"
      ]
     },
     "execution_count": 5,
     "metadata": {},
     "output_type": "execute_result"
    }
   ],
   "source": [
    "e = linalg.norm(a, inf) * linalg.norm(d, inf)\n",
    "e"
   ]
  },
  {
   "cell_type": "code",
   "execution_count": null,
   "id": "19f745d6-dd46-4ee7-8356-7c5fabbd7329",
   "metadata": {},
   "outputs": [],
   "source": []
  }
 ],
 "metadata": {
  "kernelspec": {
   "display_name": "Python 3",
   "language": "python",
   "name": "python3"
  },
  "language_info": {
   "codemirror_mode": {
    "name": "ipython",
    "version": 3
   },
   "file_extension": ".py",
   "mimetype": "text/x-python",
   "name": "python",
   "nbconvert_exporter": "python",
   "pygments_lexer": "ipython3",
   "version": "3.8.8"
  }
 },
 "nbformat": 4,
 "nbformat_minor": 5
}
