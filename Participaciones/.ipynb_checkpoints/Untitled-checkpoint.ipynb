{
 "cells": [
  {
   "cell_type": "markdown",
   "id": "92622b83-ac37-4bcd-a99f-a60beac6dc3b",
   "metadata": {},
   "source": [
    "# Participacion Metodos directos sistamas lineales\n",
    "## Gauss-Jordan"
   ]
  },
  {
   "cell_type": "code",
   "execution_count": 32,
   "id": "d62bb6b0-2a19-4940-aac4-7856a4a50e36",
   "metadata": {},
   "outputs": [
    {
     "name": "stdout",
     "output_type": "stream",
     "text": [
      "[[4. 2. 5.]\n",
      " [2. 5. 8.]\n",
      " [2. 4. 3.]]\n",
      "[[18. ]\n",
      " [27.3]\n",
      " [16.2]]\n",
      "[1.2 2.1 1.8]\n"
     ]
    }
   ],
   "source": [
    "import numpy as np\n",
    "\n",
    "def gaussjordan(a,b):\n",
    "    n=len(b)\n",
    "    c=np.concatenate([a,b],axis=1)\n",
    "    for e in range(n):\n",
    "        c[e,e:]=c[e,e:]/c[e,e]\n",
    "        for i in range(n):\n",
    "            if i!=e:\n",
    "                c[i,e:]=c[i,e:]-c[i,e]*c[e,e:]\n",
    "    x=c[:,n]\n",
    "    return x\n",
    "\n",
    "a=np.array([[4,2,5],[2,5,8],[2,4,3]],float)\n",
    "b=np.array([[18.0],[27.3],[16.2]],float)\n",
    "print(a)\n",
    "print(b)\n",
    "x=gaussjordan(a,b)\n",
    "print(x)"
   ]
  },
  {
   "cell_type": "code",
   "execution_count": null,
   "id": "be79a161-3641-4c3e-a43a-98ce79b96928",
   "metadata": {},
   "outputs": [],
   "source": []
  },
  {
   "cell_type": "markdown",
   "id": "c755c627-6f1b-4529-8e01-6306f46002c5",
   "metadata": {},
   "source": [
    "## Gauss"
   ]
  },
  {
   "cell_type": "code",
   "execution_count": 34,
   "id": "445ec4ad-bf57-462d-9665-2a068df5fd7d",
   "metadata": {},
   "outputs": [
    {
     "name": "stdout",
     "output_type": "stream",
     "text": [
      "[[4. 2. 5.]\n",
      " [2. 5. 8.]\n",
      " [2. 4. 3.]]\n",
      "[[18. ]\n",
      " [27.3]\n",
      " [16.2]]\n",
      "[4.5   4.575 1.8  ]\n"
     ]
    }
   ],
   "source": [
    "def gauss(a,b):\n",
    "    n=len(b)\n",
    "    c=np.concatenate([a,b],axis=1)\n",
    "    for e in range(n):\n",
    "        c[e,e:]=c[e,e:]/c[e,e]\n",
    "        for i in range(e+1,n):\n",
    "            if i!=e:\n",
    "                c[i,e:]=c[i,e:]-c[i,e]*c[e,e:]\n",
    "        x=np.zeros([n])\n",
    "        x[n-1]=c[n-1,n]\n",
    "        for i in range(n-2,-1,-1):\n",
    "            x[i]=c[i,n]-np.dot(x[i+1:n],c[i,i+1:n])\n",
    "    x=c[:,n]\n",
    "    return x\n",
    "d=np.array([[4,2,5],[2,5,8],[2,4,3]],float)\n",
    "e=np.array([[18.0],[27.3],[16.2]],float)\n",
    "print(d)\n",
    "print(e)\n",
    "x=gauss(d,e)\n",
    "print(x)"
   ]
  },
  {
   "cell_type": "code",
   "execution_count": null,
   "id": "251702d7-964d-4551-b430-77c9a40b1e49",
   "metadata": {},
   "outputs": [],
   "source": []
  }
 ],
 "metadata": {
  "kernelspec": {
   "display_name": "Python 3",
   "language": "python",
   "name": "python3"
  },
  "language_info": {
   "codemirror_mode": {
    "name": "ipython",
    "version": 3
   },
   "file_extension": ".py",
   "mimetype": "text/x-python",
   "name": "python",
   "nbconvert_exporter": "python",
   "pygments_lexer": "ipython3",
   "version": "3.8.8"
  }
 },
 "nbformat": 4,
 "nbformat_minor": 5
}
