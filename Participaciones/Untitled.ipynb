{
 "cells": [
  {
   "cell_type": "markdown",
   "id": "92622b83-ac37-4bcd-a99f-a60beac6dc3b",
   "metadata": {},
   "source": [
    "# Participacion Metodos directos sistamas lineales"
   ]
  },
  {
   "cell_type": "code",
   "execution_count": null,
   "id": "a93b940a-8b1c-47d6-87b2-725dc4c3fd53",
   "metadata": {},
   "outputs": [],
   "source": [
    "import numpy as np\n",
    "import time"
   ]
  },
  {
   "cell_type": "markdown",
   "id": "bfeffd6b-d5de-4523-8ee4-5a2ce9b5a631",
   "metadata": {},
   "source": [
    "## Gauss-Jordan"
   ]
  },
  {
   "cell_type": "code",
   "execution_count": null,
   "id": "d62bb6b0-2a19-4940-aac4-7856a4a50e36",
   "metadata": {},
   "outputs": [],
   "source": [
    "def gaussjordan(a,b):\n",
    "    n=len(b)\n",
    "    c=np.concatenate([a,b],axis=1)\n",
    "    for e in range(n):\n",
    "        c[e,e:]=c[e,e:]/c[e,e]\n",
    "        for i in range(n):\n",
    "            if i!=e:\n",
    "                c[i,e:]=c[i,e:]-c[i,e]*c[e,e:]\n",
    "    x=c[:,n]\n",
    "    return x\n",
    "\n",
    "a=np.array([[4,2,5],[2,5,8],[2,4,3]],float)\n",
    "b=np.array([[18.0],[27.3],[16.2]],float)\n",
    "print(\"Matriz a:\\n\",a)\n",
    "print(\"Vector b:\\n\",b)\n",
    "x=gaussjordan(a,b)\n",
    "print(\"Vector x:\\n\",x)\n"
   ]
  },
  {
   "cell_type": "markdown",
   "id": "c755c627-6f1b-4529-8e01-6306f46002c5",
   "metadata": {},
   "source": [
    "## Gauss"
   ]
  },
  {
   "cell_type": "code",
   "execution_count": null,
   "id": "445ec4ad-bf57-462d-9665-2a068df5fd7d",
   "metadata": {},
   "outputs": [],
   "source": [
    "def gauss(a,b):\n",
    "    n=len(b)\n",
    "    c=np.concatenate([a,b],axis=1)\n",
    "    for e in range(n):\n",
    "        c[e,e:]=c[e,e:]/c[e,e]\n",
    "        for i in range(e+1,n):\n",
    "            c[i,e:]=c[i,e:]-c[i,e]*c[e,e:]\n",
    "    x=np.zeros([n])\n",
    "    x[n-1]=c[n-1,n]\n",
    "    for i in range(n-2,-1,-1):\n",
    "        x[i]=c[i,n]-np.dot(x[i+1:n],c[i,i+1:n])\n",
    "    return x\n",
    "\n",
    "print(\"Matriz a:\\n\",a)\n",
    "print(\"Vector b:\\n\",b)\n",
    "x=gaussjordan(a,b)\n",
    "print(\"Vector x:\\n\",x)"
   ]
  },
  {
   "cell_type": "markdown",
   "id": "5d9dc47f-e8fb-4739-9cee-d0d694a7b397",
   "metadata": {},
   "source": [
    "## Verificación"
   ]
  },
  {
   "cell_type": "code",
   "execution_count": null,
   "id": "db18f181-31f8-40c4-8a6f-0038e627b022",
   "metadata": {},
   "outputs": [],
   "source": [
    "print(\"Matriz a:\\n\",a)\n",
    "print(\"Vector b:\\n\",b)\n",
    "x=np.linalg.solve(a,b)\n",
    "print(\"Vector x:\\n\",x)"
   ]
  },
  {
   "cell_type": "code",
   "execution_count": null,
   "id": "251702d7-964d-4551-b430-77c9a40b1e49",
   "metadata": {},
   "outputs": [],
   "source": [
    "t1 = time.perf_counter()\n",
    "X=gaussjordan(A,B)\n",
    "t2 = time.perf_counter()\n",
    "print(\"Tiempo de ejecucion Gauss-Jordan: \",t2-t1)\n",
    "t1 = time.perf_counter()\n",
    "X=gauss(A,B)\n",
    "t2 = time.perf_counter()\n",
    "print(\"Tiempo de ejecucion Gauss: \",t2-t1)\n",
    "t1 = time.perf_counter()\n",
    "X=np.linalg.solve(A,B)\n",
    "t2 = time.perf_counter()\n",
    "print(\"Tiempo de ejecucion NumPy: \",t2-t1)"
   ]
  },
  {
   "cell_type": "code",
   "execution_count": null,
   "id": "6875417f-b3d6-4b25-8c61-081eb6ab4b44",
   "metadata": {},
   "outputs": [],
   "source": []
  }
 ],
 "metadata": {
  "kernelspec": {
   "display_name": "Python 3",
   "language": "python",
   "name": "python3"
  },
  "language_info": {
   "codemirror_mode": {
    "name": "ipython",
    "version": 3
   },
   "file_extension": ".py",
   "mimetype": "text/x-python",
   "name": "python",
   "nbconvert_exporter": "python",
   "pygments_lexer": "ipython3",
   "version": "3.8.8"
  }
 },
 "nbformat": 4,
 "nbformat_minor": 5
}
