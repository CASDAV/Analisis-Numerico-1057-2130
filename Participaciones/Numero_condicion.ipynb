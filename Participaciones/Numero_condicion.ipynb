{
 "cells": [
  {
   "cell_type": "markdown",
   "id": "d605ac65",
   "metadata": {},
   "source": [
    "# Numero de condición"
   ]
  },
  {
   "cell_type": "code",
   "execution_count": 3,
   "id": "aa4c9497",
   "metadata": {},
   "outputs": [
    {
     "name": "stdout",
     "output_type": "stream",
     "text": [
      "[[  270.]\n",
      " [-1920.]\n",
      " [ 2100.]]\n"
     ]
    }
   ],
   "source": [
    "import numpy as np\r\n",
    "a = np.array([[1,1/2,1/3],[1/2,1/3,1/4],[1/3,1/4,1/5]], float)\r\n",
    "b = np.array([[10],[20],[30]])\r\n",
    "s = np.linalg.solve(a,b)\r\n",
    "print(s)"
   ]
  },
  {
   "cell_type": "code",
   "execution_count": 4,
   "id": "75e8bcb4",
   "metadata": {},
   "outputs": [
    {
     "name": "stdout",
     "output_type": "stream",
     "text": [
      "1.8333333333333333\n"
     ]
    }
   ],
   "source": [
    "n = np.linalg.norm(a, np.inf)\r\n",
    "print(n)"
   ]
  },
  {
   "cell_type": "code",
   "execution_count": 6,
   "id": "696b46ea",
   "metadata": {},
   "outputs": [
    {
     "name": "stdout",
     "output_type": "stream",
     "text": [
      "[[   9.  -36.   30.]\n",
      " [ -36.  192. -180.]\n",
      " [  30. -180.  180.]]\n"
     ]
    }
   ],
   "source": [
    "d = np.linalg.inv(a)\r\n",
    "print(d)"
   ]
  },
  {
   "cell_type": "code",
   "execution_count": 8,
   "id": "502fd1cf",
   "metadata": {},
   "outputs": [
    {
     "name": "stdout",
     "output_type": "stream",
     "text": [
      "748.0000000000028\n"
     ]
    }
   ],
   "source": [
    "c = np.linalg.cond(a, np.inf)\r\n",
    "print(c)"
   ]
  },
  {
   "cell_type": "code",
   "execution_count": 11,
   "id": "699e3cb3",
   "metadata": {},
   "outputs": [
    {
     "name": "stdout",
     "output_type": "stream",
     "text": [
      "748.0000000000028\n"
     ]
    }
   ],
   "source": [
    "e = np.linalg.norm(a, np.inf) * np.linalg.norm(d, np.inf)\r\n",
    "print(e)"
   ]
  }
 ],
 "metadata": {
  "interpreter": {
   "hash": "2b98e5309e6e3b0bade2ed4a1aa225e8ff7275f11bed2b4c0572310c8cf94ab4"
  },
  "kernelspec": {
   "display_name": "Python 3",
   "language": "python",
   "name": "python3"
  },
  "language_info": {
   "codemirror_mode": {
    "name": "ipython",
    "version": 3
   },
   "file_extension": ".py",
   "mimetype": "text/x-python",
   "name": "python",
   "nbconvert_exporter": "python",
   "pygments_lexer": "ipython3",
   "version": "3.8.8"
  }
 },
 "nbformat": 4,
 "nbformat_minor": 5
}
