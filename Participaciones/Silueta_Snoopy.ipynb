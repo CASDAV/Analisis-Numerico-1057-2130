{
 "cells": [
  {
   "cell_type": "code",
   "execution_count": 25,
   "source": [
    "import matplotlib.pyplot as plt\r\n",
    "import numpy as np\r\n",
    "from scipy import interpolate as intp"
   ],
   "outputs": [],
   "metadata": {}
  },
  {
   "cell_type": "code",
   "execution_count": 26,
   "source": [
    "def graficarCurva(x, y, ax):\r\n",
    "    cantidadDatosEntreRangoX = np.linspace(start=min(x), stop=max(x), num=100)\r\n",
    "    interpY = intp.interp1d(x, y, kind='cubic')\r\n",
    "\r\n",
    "    #plt.plot(x, y, 'o', cantidadDatosEntreRangoX, interpY(cantidadDatosEntreRangoX), '-', color='red')\r\n",
    "    ax.plot(x, y, 'o', cantidadDatosEntreRangoX, interpY(cantidadDatosEntreRangoX), '-', color='red')\r\n",
    "\r\n",
    "def graficarCurvaSinPuntos(x, y, ax):\r\n",
    "    cantidadDatosEntreRangoX = np.linspace(start=min(x), stop=max(x), num=100)\r\n",
    "    interpY = intp.interp1d(x, y, kind='cubic')\r\n",
    "\r\n",
    "    ax.plot(cantidadDatosEntreRangoX, interpY(cantidadDatosEntreRangoX), '-', color='red')\r\n",
    "\r\n",
    "def graficarLinea(x, y):\r\n",
    "    plt.plot(x, y, 'o', x, y, ' ', color='red')\r\n",
    "\r\n",
    "def graficarLineaSinPuntos(x, y):\r\n",
    "    plt.plot(x, y, ' ', color='red')\r\n",
    "\r\n",
    "def mostrarDibujoSinPuntos():    \r\n",
    "    fig = plt.figure(figsize=(8, 8))\r\n",
    "    ax = fig.add_subplot(1, 1, 1, aspect=1.5)\r\n",
    "\r\n",
    "    xCurva1 = np.array([1, 2, 5, 6, 7, 8, 10, 13, 17])\r\n",
    "    yCurva1 = np.array([3.0, 3.7, 3.9, 4.2, 5.7, 6.6, 7.1, 6.7, 4.5])\r\n",
    "    graficarCurvaSinPuntos(xCurva1, yCurva1, ax)\r\n",
    "\r\n",
    "    xCurva2 = np.array([17, 20, 23, 24, 25, 27, 27.7])\r\n",
    "    yCurva2 = np.array([4.5, 7.0, 6.1, 5.6, 5.8, 5.2, 4.1])\r\n",
    "    graficarCurvaSinPuntos(xCurva2, yCurva2, ax)\r\n",
    "    \r\n",
    "    xCurva3 = np.array([27.7, 28, 29, 30])\r\n",
    "    yCurva3 = np.array([4.1, 4.3, 4.1, 3.0])\r\n",
    "    graficarCurvaSinPuntos(xCurva3, yCurva3, ax)\r\n",
    "\r\n",
    "    plt.show()\r\n",
    "\r\n",
    "\r\n",
    "def mostrarDibujo():\r\n",
    "    fig = plt.figure(figsize=(8, 8))\r\n",
    "    ax = fig.add_subplot(1, 1, 1, aspect=1.5)\r\n",
    "\r\n",
    "    xCurva1 = np.array([1, 2, 5, 6, 7, 8, 10, 13, 17])\r\n",
    "    yCurva1 = np.array([3.0, 3.7, 3.9, 4.2, 5.7, 6.6, 7.1, 6.7, 4.5])\r\n",
    "    graficarCurva(xCurva1, yCurva1, ax)\r\n",
    "\r\n",
    "    xCurva2 = np.array([17, 20, 23, 24, 25, 27, 27.7])\r\n",
    "    yCurva2 = np.array([4.5, 7.0, 6.1, 5.6, 5.8, 5.2, 4.1])\r\n",
    "    graficarCurva(xCurva2, yCurva2, ax)\r\n",
    "    \r\n",
    "    xCurva3 = np.array([27.7, 28, 29, 30])\r\n",
    "    yCurva3 = np.array([4.1, 4.3, 4.1, 3.0])\r\n",
    "    graficarCurva(xCurva3, yCurva3, ax)\r\n",
    "\r\n",
    "    plt.show()"
   ],
   "outputs": [],
   "metadata": {}
  },
  {
   "cell_type": "code",
   "execution_count": 27,
   "source": [
    "mostrarDibujoSinPuntos()"
   ],
   "outputs": [
    {
     "output_type": "display_data",
     "data": {
      "image/png": "[encoded data removed]",
      "text/plain": [
       "<Figure size 576x576 with 1 Axes>"
      ]
     },
     "metadata": {
      "needs_background": "light"
     }
    }
   ],
   "metadata": {}
  },
  {
   "cell_type": "code",
   "execution_count": 28,
   "source": [
    "mostrarDibujo()"
   ],
   "outputs": [
    {
     "output_type": "display_data",
     "data": {
      "image/png": "[encoded data removed]",
      "text/plain": [
       "<Figure size 576x576 with 1 Axes>"
      ]
     },
     "metadata": {
      "needs_background": "light"
     }
    }
   ],
   "metadata": {}
  }
 ],
 "metadata": {
  "orig_nbformat": 4,
  "language_info": {
   "name": "python",
   "version": "3.9.4",
   "mimetype": "text/x-python",
   "codemirror_mode": {
    "name": "ipython",
    "version": 3
   },
   "pygments_lexer": "ipython3",
   "nbconvert_exporter": "python",
   "file_extension": ".py"
  },
  "kernelspec": {
   "name": "python3",
   "display_name": "Python 3.9.4 64-bit"
  },
  "interpreter": {
   "hash": "7bfa93c4e636a5a625379eff0a239c64974d99f59f76c96838852984426a1d79"
  }
 },
 "nbformat": 4,
 "nbformat_minor": 2
}