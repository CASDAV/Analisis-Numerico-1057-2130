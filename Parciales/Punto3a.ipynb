{
 "cells": [
  {
   "cell_type": "code",
   "execution_count": 1,
   "id": "80e1b3c8-a7f7-49b0-ab09-eb1ffd9c9e71",
   "metadata": {},
   "outputs": [
    {
     "name": "stdout",
     "output_type": "stream",
     "text": [
      "Se obtuvo la raiz 1.4986959831879558 en 150 iteraciones\n"
     ]
    },
    {
     "data": {
      "image/png": "[encoded data removed]",
      "text/plain": [
       "<Figure size 432x288 with 1 Axes>"
      ]
     },
     "metadata": {
      "needs_background": "light"
     },
     "output_type": "display_data"
    }
   ],
   "source": [
    "import numpy as np\n",
    "import matplotlib.pyplot as plt\n",
    "import math\n",
    "\n",
    "def puntoFijo(x, error_permitido, g, iters, num_eq):\n",
    "    iteraciones = 0\n",
    "    y_vals = []\n",
    "    y_vals.append(x)\n",
    "    errores = []\n",
    "    while abs(g(x)-x) > error_permitido and iteraciones < iters:\n",
    "        error = abs(g(x)-x)\n",
    "        errores.append(error)\n",
    "        iteraciones += 1\n",
    "        x = g(x)\n",
    "        y_vals.append(x)\n",
    "    x_errores = list(range(len(y_vals)-1))\n",
    "    \n",
    "    plt.plot(x_errores, errores, color='g')\n",
    "\n",
    "    print(f'Se obtuvo la raiz {x} en {iteraciones} iteraciones')\n",
    "        \n",
    "if __name__ == \"__main__\": \n",
    "    x = 0.7 \n",
    "    tol=10**-5\n",
    "    g = lambda x: 2 + np.sin(x) - x\n",
    "    puntoFijo(x,tol, g, 1000, 1)"
   ]
  },
  {
   "cell_type": "code",
   "execution_count": null,
   "id": "7b50efdd-1b4b-4d42-8973-314a537b6ee5",
   "metadata": {},
   "outputs": [],
   "source": []
  }
 ],
 "metadata": {
  "kernelspec": {
   "display_name": "Python 3",
   "language": "python",
   "name": "python3"
  },
  "language_info": {
   "codemirror_mode": {
    "name": "ipython",
    "version": 3
   },
   "file_extension": ".py",
   "mimetype": "text/x-python",
   "name": "python",
   "nbconvert_exporter": "python",
   "pygments_lexer": "ipython3",
   "version": "3.8.8"
  }
 },
 "nbformat": 4,
 "nbformat_minor": 5
}
