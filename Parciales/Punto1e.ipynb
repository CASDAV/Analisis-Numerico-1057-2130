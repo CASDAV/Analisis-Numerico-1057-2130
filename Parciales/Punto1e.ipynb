{
 "cells": [
  {
   "cell_type": "code",
   "execution_count": 9,
   "id": "faba8255-b9c8-4afe-bb70-09f1f07b05c0",
   "metadata": {},
   "outputs": [
    {
     "name": "stdout",
     "output_type": "stream",
     "text": [
      "\n",
      "\n",
      "*** NEWTON RAPHSON METHOD IMPLEMENTATION ***\n",
      "Iteration-1, x1 = 1.035425 and f(x1) = 0.826685\n",
      "Iteration-2, x1 = 0.355761 and f(x1) = -1.597700\n",
      "Iteration-3, x1 = -0.630289 and f(x1) = -3.865219\n",
      "Iteration-4, x1 = -5.412759 and f(x1) = -171.762579\n",
      "Iteration-5, x1 = -3.413052 and f(x1) = -48.938753\n",
      "Iteration-6, x1 = -1.927664 and f(x1) = -13.372568\n",
      "Iteration-7, x1 = -0.465810 and f(x1) = -3.386939\n",
      "Iteration-8, x1 = -2.976393 and f(x1) = -34.674658\n",
      "Iteration-9, x1 = -1.565521 and f(x1) = -9.322158\n",
      "Iteration-10, x1 = 0.176102 and f(x1) = -1.996583\n",
      "\n",
      "Not Convergent.\n"
     ]
    }
   ],
   "source": [
    "import numpy as np\n",
    "import matplotlib.pyplot as plt\n",
    "import math\n",
    "\n",
    "# funcion 5 + raiz de 7\n",
    "def f(x):\n",
    "    return x**3 + 2*x - 5 + np.sqrt(7)\n",
    "\n",
    "# derivada funcion 5 + raiz de 7\n",
    "def g(x):\n",
    "    return 3*x**2 - 2\n",
    "\n",
    "\n",
    "\n",
    "def newtonRaphson1(x0,e,N):\n",
    "    step = 1\n",
    "    flag = 1\n",
    "    condition = True\n",
    "    while condition:\n",
    "        if g(x0) == 0.0:\n",
    "            print('Divide por 0!')\n",
    "            break\n",
    "        \n",
    "        x1 = x0 - f(x0)/g(x0)\n",
    "        print('Iteracion %d, x1 = %0.6f y f(x1) = %0.6f' % (step, x1, f(x1)))\n",
    "        x0 = x1\n",
    "        step = step + 1\n",
    "        \n",
    "        if step > N:\n",
    "            flag = 0\n",
    "            break\n",
    "        \n",
    "        condition = abs(f(x1)) > e\n",
    "    \n",
    "    if flag==1:\n",
    "        print('\\nla raiz es: %0.8f' % x1)\n",
    "    else:\n",
    "        print('\\nno convergente.')\n",
    "\n",
    "\n",
    "# Input Section\n",
    "x0 = 2\n",
    "e = 10**-12\n",
    "e = float(e)\n",
    "N = 10\n",
    "\n",
    "newtonRaphson1(x0,e,N)"
   ]
  },
  {
   "cell_type": "code",
   "execution_count": 11,
   "id": "fd5b7aa6-fb26-4dee-a336-3e02e6d0ab61",
   "metadata": {},
   "outputs": [
    {
     "name": "stdout",
     "output_type": "stream",
     "text": [
      "Iteracion 1, x1 = 1.333333 y f(x1) = -0.296296\n",
      "Iteracion 2, x1 = 1.422222 y f(x1) = 0.387863\n",
      "Iteracion 3, x1 = 1.326881 y f(x1) = -0.343448\n",
      "Iteracion 4, x1 = 1.431532 y f(x1) = 0.463346\n",
      "Iteracion 5, x1 = 1.319824 y f(x1) = -0.394634\n",
      "Iteracion 6, x1 = 1.442161 y f(x1) = 0.550434\n",
      "Iteracion 7, x1 = 1.312326 y f(x1) = -0.448597\n",
      "Iteracion 8, x1 = 1.453991 y f(x1) = 0.648517\n",
      "Iteracion 9, x1 = 1.304641 y f(x1) = -0.503435\n",
      "Iteracion 10, x1 = 1.466712 y f(x1) = 0.755346\n",
      "\n",
      "no convergente.\n"
     ]
    }
   ],
   "source": [
    "def newtonRaphson2(x0,e,N):\n",
    "    step = 1\n",
    "    flag = 1\n",
    "    condition = True\n",
    "    while condition:\n",
    "        if i(x0) == 0.0:\n",
    "            print('Divide por 0!')\n",
    "            break\n",
    "        \n",
    "        x1 = x0 - h(x0)/i(x0)\n",
    "        print('Iteracion %d, x1 = %0.6f y f(x1) = %0.6f' % (step, x1, h(x1)))\n",
    "        x0 = x1\n",
    "        step = step + 1\n",
    "        \n",
    "        if step > N:\n",
    "            flag = 0\n",
    "            break\n",
    "        \n",
    "        condition = abs(h(x1)) > e\n",
    "    \n",
    "    if flag==1:\n",
    "        print('\\nla raiz es: %0.8f' % x1)\n",
    "    else:\n",
    "        print('\\nno convergente.')\n",
    "\n",
    "x0 = 2\n",
    "e = 10**-12\n",
    "N = 10\n",
    "\n",
    "newtonRaphson2(x0,e,N)"
   ]
  },
  {
   "cell_type": "code",
   "execution_count": null,
   "id": "bcf381da-1dd6-41a3-bb97-f3a26d39e52e",
   "metadata": {},
   "outputs": [],
   "source": []
  }
 ],
 "metadata": {
  "kernelspec": {
   "display_name": "Python 3",
   "language": "python",
   "name": "python3"
  },
  "language_info": {
   "codemirror_mode": {
    "name": "ipython",
    "version": 3
   },
   "file_extension": ".py",
   "mimetype": "text/x-python",
   "name": "python",
   "nbconvert_exporter": "python",
   "pygments_lexer": "ipython3",
   "version": "3.8.8"
  }
 },
 "nbformat": 4,
 "nbformat_minor": 5
}
